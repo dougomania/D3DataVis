{
 "cells": [
  {
   "cell_type": "code",
   "execution_count": 3,
   "metadata": {
    "collapsed": false
   },
   "outputs": [
    {
     "data": {
      "text/plain": [
       "'     dfd'"
      ]
     },
     "execution_count": 3,
     "metadata": {},
     "output_type": "execute_result"
    }
   ],
   "source": [
    "' '*5 + \"dfd\"\n"
   ]
  },
  {
   "cell_type": "code",
   "execution_count": null,
   "metadata": {
    "collapsed": true
   },
   "outputs": [],
   "source": []
  },
  {
   "cell_type": "code",
   "execution_count": 6,
   "metadata": {
    "collapsed": false
   },
   "outputs": [
    {
     "name": "stdout",
     "output_type": "stream",
     "text": [
      "enter in input\n"
     ]
    }
   ],
   "source": [
    "print \"enter in input\"\n",
    "letters = str(sys.stdin.readline())\n"
   ]
  },
  {
   "cell_type": "code",
   "execution_count": 9,
   "metadata": {
    "collapsed": false
   },
   "outputs": [
    {
     "name": "stdout",
     "output_type": "stream",
     "text": [
      "\n"
     ]
    }
   ],
   "source": [
    "#print \"enter in input\"\n",
    "letters = \"I may opt for a top yam for Any, May and Tommy.\"\n",
    "#letters = str(sys.stdin.readline())\n",
    "\n",
    "#objective one\n",
    "letters.join([c for c in letters if letters.isalnum()])\n",
    "print letters"
   ]
  },
  {
   "cell_type": "code",
   "execution_count": 12,
   "metadata": {
    "collapsed": false
   },
   "outputs": [
    {
     "name": "stdout",
     "output_type": "stream",
     "text": [
      "754\n"
     ]
    }
   ],
   "source": [
    "number = \"111 5\"\n",
    "numblist = number.split()\n",
    "\n",
    "def collatz(n,k):\n",
    "    \n",
    "    for i in range(0,k):\n",
    "        if n%2 == 0:\n",
    "            n = n/2\n",
    "        elif n%2 == 1:\n",
    "            n = 3*n + 1\n",
    "    return n\n",
    "        \n",
    "\n",
    "n = int(numblist[0])\n",
    "k = int(numblist[1])\n",
    "\n",
    "answer = collatz(n,k)\n",
    "print answer "
   ]
  },
  {
   "cell_type": "code",
   "execution_count": null,
   "metadata": {
    "collapsed": true
   },
   "outputs": [],
   "source": []
  },
  {
   "cell_type": "markdown",
   "metadata": {},
   "source": [
    "import math\n"
   ]
  },
  {
   "cell_type": "code",
   "execution_count": 25,
   "metadata": {
    "collapsed": false
   },
   "outputs": [
    {
     "data": {
      "text/plain": [
       "0.7310585786300049"
      ]
     },
     "execution_count": 25,
     "metadata": {},
     "output_type": "execute_result"
    }
   ],
   "source": [
    "1/(1+math.exp(-1))"
   ]
  },
  {
   "cell_type": "code",
   "execution_count": 26,
   "metadata": {
    "collapsed": true
   },
   "outputs": [],
   "source": [
    "import sys\n",
    "\n",
    "for line in sys.stdin:\n",
    "    print line"
   ]
  },
  {
   "cell_type": "code",
   "execution_count": 30,
   "metadata": {
    "collapsed": false
   },
   "outputs": [
    {
     "name": "stdout",
     "output_type": "stream",
     "text": [
      "6\n"
     ]
    }
   ],
   "source": [
    "letters = \"3 2\"\n",
    "letlist = letters.split()\n",
    "n = int(letlist[0])\n",
    "r = int(letlist[1])\n",
    "\n",
    "def perm(n,r):\n",
    "    result = fac(n)/fac(n-r)\n",
    "    return result\n",
    "\n",
    "def fac(n):\n",
    "    if n == 0:\n",
    "        return 1\n",
    "    else:\n",
    "        return n * fac(n-1)\n",
    "    \n",
    "result = perm(n,r)\n",
    "    \n",
    "\n",
    "print result"
   ]
  },
  {
   "cell_type": "code",
   "execution_count": 35,
   "metadata": {
    "collapsed": false
   },
   "outputs": [
    {
     "data": {
      "text/plain": [
       "'ImayoptforatopyamforAnyMayandTommy'"
      ]
     },
     "execution_count": 35,
     "metadata": {},
     "output_type": "execute_result"
    }
   ],
   "source": [
    "sen = \"I may opt for a top yam for Any, May and Tommy.\"\n",
    "\n",
    "filter(str.isalnum, sen)                "
   ]
  },
  {
   "cell_type": "code",
   "execution_count": null,
   "metadata": {
    "collapsed": false
   },
   "outputs": [],
   "source": [
    "#print \"enter in input\"\n",
    "sen = \"I may opt for a top yam for Any, May and Tommy.\"\n",
    "#letters = str(sys.stdin.readline())\n",
    "\n",
    "senlist = sen.split()\n",
    "print senlist\n",
    "count = 0\n",
    "#objective one\n",
    "#letters = re.sub(r'([^\\s\\w]|_)+', '', letters)\n",
    "for s in senlist:\n",
    "    s = filter(str.isalnum, s)\n",
    "    senllist\n",
    "    \n",
    "print senlist"
   ]
  },
  {
   "cell_type": "code",
   "execution_count": null,
   "metadata": {
    "collapsed": true
   },
   "outputs": [],
   "source": []
  }
 ],
 "metadata": {
  "kernelspec": {
   "display_name": "Python 2",
   "language": "python",
   "name": "python2"
  },
  "language_info": {
   "codemirror_mode": {
    "name": "ipython",
    "version": 2
   },
   "file_extension": ".py",
   "mimetype": "text/x-python",
   "name": "python",
   "nbconvert_exporter": "python",
   "pygments_lexer": "ipython2",
   "version": "2.7.11"
  }
 },
 "nbformat": 4,
 "nbformat_minor": 0
}
